{
 "cells": [
  {
   "cell_type": "code",
   "execution_count": 1,
   "metadata": {},
   "outputs": [],
   "source": [
    "import os"
   ]
  },
  {
   "cell_type": "code",
   "execution_count": 2,
   "metadata": {},
   "outputs": [],
   "source": [
    "import nltk"
   ]
  },
  {
   "cell_type": "code",
   "execution_count": 3,
   "metadata": {},
   "outputs": [],
   "source": [
    "import pandas as pd"
   ]
  },
  {
   "cell_type": "code",
   "execution_count": 4,
   "metadata": {},
   "outputs": [],
   "source": [
    "from sklearn.metrics import confusion_matrix"
   ]
  },
  {
   "cell_type": "code",
   "execution_count": 5,
   "metadata": {},
   "outputs": [],
   "source": [
    "from TextNormalizer import *"
   ]
  },
  {
   "cell_type": "code",
   "execution_count": 6,
   "metadata": {},
   "outputs": [],
   "source": [
    "import math"
   ]
  },
  {
   "cell_type": "code",
   "execution_count": 7,
   "metadata": {},
   "outputs": [],
   "source": [
    "import time"
   ]
  },
  {
   "cell_type": "code",
   "execution_count": 74,
   "metadata": {},
   "outputs": [],
   "source": [
    "class Model():\n",
    "    def __init__(self):\n",
    "        self.classes = {}\n",
    "        self.logprob={} \n",
    "        self.vector_of_words=[]\n",
    "        self.loglikelihood={}\n",
    "               \n",
    "    def trainNBClassifier(self):\n",
    "         \n",
    "        self.getTrainingData()    \n",
    "        bigdoc={}\n",
    "        \n",
    "        for classe in self.classes:\n",
    "            text=''\n",
    "            \n",
    "            number_of_documents = sum(map(lambda classes:int(classes),self.classes.values())) \n",
    "            number_of_doc_in_class = self.classes[classe]\n",
    "            \n",
    "            self.logprob[classe] = math.log(number_of_doc_in_class/number_of_documents)\n",
    "        \n",
    "            self.vector_of_words = self.extractVocabulary()\n",
    "            \n",
    "            files=os.listdir('./dataset/train/'+classe)\n",
    "            for doc in files:\n",
    "                text += self.read_file(\"./dataset/train/\"+classe+\"/\"+doc)\n",
    "            \n",
    "            bigdoc[classe]= text\n",
    "            \n",
    "            words_of_classe = nltk.tokenize.word_tokenize(bigdoc[classe])\n",
    "            \n",
    "            for word in self.vector_of_words:\n",
    "                self.loglikelihood[word,classe] = (bigdoc[classe].count(word) +1 / (len(words_of_classe)+len(self.vector_of_words)))\n",
    "        \n",
    "        #print(self.classes)\n",
    "        print(self.logprob)\n",
    "        #print(self.vector_of_words)\n",
    "        #print(self.loglikelihood)\n",
    "                \n",
    "        return (self.classes, self.logprob, self.vector_of_words, self.loglikelihood )\n",
    "    \n",
    "    def predict(self, file):\n",
    "            \n",
    "        words=[]\n",
    "        probabilityPerClass={}\n",
    "        doc= self.read_file(file)\n",
    "        normalizer = TextNormalizer()\n",
    "        text = normalizer.normalizing(doc)\n",
    "        #sentences = nltk.sent_tokenize(text)        \n",
    "        #for sentence in sentences:\n",
    "        words = nltk.word_tokenize(text)       \n",
    "        \n",
    "        for classe in self.classes:\n",
    "            \n",
    "            probabilityPerClass[classe] = self.logprob[classe]\n",
    "\n",
    "            for word in words:\n",
    "                if word in self.vector_of_words:\n",
    "                    probabilityPerClass[classe]+= self.loglikelihood[word,classe]\n",
    "            #print(\"CLASSE: \", probabilityPerClass)\n",
    "            #print(len(self.vector_of_words))\n",
    "        return max(probabilityPerClass, key=probabilityPerClass.get)\n",
    "    \n",
    "    def testNBClassifier(self):\n",
    "        #path: caminho para o dataset test\n",
    "        #buscar na pasta teste todos os arquivos e posteriormente chama predict()\n",
    "        \n",
    "        folders=os.listdir('./dataset/test')\n",
    "        y_test={}\n",
    "        y_predict={}\n",
    "        \n",
    "        \n",
    "        for classe in folders:\n",
    "            number_of_docs = len(os.listdir('./dataset/test/'+classe))\n",
    "            y_test[classe]=number_of_docs            \n",
    "            y_predict[classe]=0\n",
    "        \n",
    "        \n",
    "        t_inicial = time.time()  \n",
    "        \n",
    "        for classe in folders:  \n",
    "            files=os.listdir('./dataset/test/'+classe)\n",
    "            for doc in files: \n",
    "                predict_class = self.predict('./dataset/test/'+classe+'/'+doc)\n",
    "                y_predict[predict_class]+=1 \n",
    "                print(\"PREDICAO\", y_predict)\n",
    "        t_final = time.time()\n",
    "        \n",
    "        tempo_total = t_final - t_inicial\n",
    "        #print(y_test)\n",
    "        print(y_predict)\n",
    "        print(\"elapsed time: \" +str(tempo_total))\n",
    "\n",
    "            \n",
    "        \n",
    "    def getTrainingData(self):\n",
    "        folders=os.listdir('./dataset/train')\n",
    "        for classe in folders:\n",
    "            number_of_docs = len(os.listdir('./dataset/train/'+classe))\n",
    "            self.classes[classe]=number_of_docs        \n",
    "          \n",
    "    \n",
    "    def extractVocabulary(self):\n",
    "        bigtext=''\n",
    "        folders=os.listdir('./dataset/train')\n",
    "        for classe in folders:            \n",
    "            files=os.listdir('./dataset/train/'+classe)\n",
    "            for doc in files:\n",
    "                bigtext += self.read_file(\"./dataset/train/\"+classe+\"/\"+doc)\n",
    "        normalizer = TextNormalizer()\n",
    "        bigtext = normalizer.normalizing(bigtext)\n",
    "        sentences = nltk.sent_tokenize(bigtext)        \n",
    "        for sentence in sentences:\n",
    "            words = nltk.word_tokenize(sentence)\n",
    "            words= [w for w in words if w.isalpha()] # remove all tokens that are not alphabetic\n",
    "        \n",
    "        stopwords = open('stopwords.txt', 'r').read()\n",
    "        word_list = [w for w in words if not w in stopwords]\n",
    "           \n",
    "        return set(word_list)\n",
    "            \n",
    "    \n",
    "    def read_file(self,filename):\n",
    "        with open (filename, 'r') as file:\n",
    "            text = file.read()\n",
    "        return text    \n",
    "    \n",
    "    def save(self, model):           \n",
    "        f = open('NBclassifier','w')\n",
    "        f.write(str(classifier))  \n",
    "        f.close()\n",
    "        \n",
    "    def importModel(self, filename):\n",
    "        model= self.read_file(filename)\n",
    "        model= eval(model)\n",
    "        self.classes = model[0]\n",
    "        self.logprob = model[1]\n",
    "        self.vector_of_words = model[2]\n",
    "        self.loglikelihood = model[3]\n",
    "    "
   ]
  },
  {
   "cell_type": "code",
   "execution_count": 75,
   "metadata": {},
   "outputs": [
    {
     "name": "stdout",
     "output_type": "stream",
     "text": [
      "{'neg': -0.6931471805599453, 'pos': -0.6931471805599453}\n"
     ]
    }
   ],
   "source": [
    "if __name__ == \"__main__\":\n",
    "    model = Model()  \n",
    "    classifier = model.trainNBClassifier()\n",
    "    model.save(classifier)   "
   ]
  },
  {
   "cell_type": "code",
   "execution_count": 73,
   "metadata": {},
   "outputs": [
    {
     "name": "stdout",
     "output_type": "stream",
     "text": [
      "PREDICAO {'neg': 0, 'pos': 1}\n",
      "PREDICAO {'neg': 0, 'pos': 2}\n",
      "PREDICAO {'neg': 0, 'pos': 3}\n",
      "PREDICAO {'neg': 0, 'pos': 4}\n",
      "PREDICAO {'neg': 0, 'pos': 5}\n",
      "PREDICAO {'neg': 0, 'pos': 6}\n",
      "PREDICAO {'neg': 0, 'pos': 7}\n",
      "PREDICAO {'neg': 0, 'pos': 8}\n",
      "PREDICAO {'neg': 0, 'pos': 9}\n",
      "PREDICAO {'neg': 0, 'pos': 10}\n",
      "PREDICAO {'neg': 0, 'pos': 11}\n",
      "PREDICAO {'neg': 0, 'pos': 12}\n",
      "PREDICAO {'neg': 0, 'pos': 13}\n",
      "PREDICAO {'neg': 0, 'pos': 14}\n",
      "PREDICAO {'neg': 0, 'pos': 15}\n",
      "PREDICAO {'neg': 0, 'pos': 16}\n",
      "PREDICAO {'neg': 0, 'pos': 17}\n",
      "PREDICAO {'neg': 0, 'pos': 18}\n",
      "PREDICAO {'neg': 0, 'pos': 19}\n",
      "PREDICAO {'neg': 0, 'pos': 20}\n",
      "PREDICAO {'neg': 0, 'pos': 21}\n",
      "PREDICAO {'neg': 0, 'pos': 22}\n",
      "PREDICAO {'neg': 0, 'pos': 23}\n",
      "PREDICAO {'neg': 0, 'pos': 24}\n",
      "PREDICAO {'neg': 0, 'pos': 25}\n",
      "PREDICAO {'neg': 0, 'pos': 26}\n",
      "PREDICAO {'neg': 0, 'pos': 27}\n",
      "PREDICAO {'neg': 0, 'pos': 28}\n",
      "PREDICAO {'neg': 0, 'pos': 29}\n",
      "PREDICAO {'neg': 0, 'pos': 30}\n",
      "PREDICAO {'neg': 0, 'pos': 31}\n",
      "PREDICAO {'neg': 0, 'pos': 32}\n",
      "PREDICAO {'neg': 0, 'pos': 33}\n",
      "PREDICAO {'neg': 0, 'pos': 34}\n",
      "PREDICAO {'neg': 0, 'pos': 35}\n",
      "PREDICAO {'neg': 0, 'pos': 36}\n",
      "PREDICAO {'neg': 0, 'pos': 37}\n",
      "PREDICAO {'neg': 0, 'pos': 38}\n",
      "PREDICAO {'neg': 0, 'pos': 39}\n",
      "PREDICAO {'neg': 0, 'pos': 40}\n",
      "PREDICAO {'neg': 0, 'pos': 41}\n",
      "PREDICAO {'neg': 0, 'pos': 42}\n",
      "PREDICAO {'neg': 0, 'pos': 43}\n",
      "PREDICAO {'neg': 0, 'pos': 44}\n",
      "PREDICAO {'neg': 0, 'pos': 45}\n",
      "PREDICAO {'neg': 0, 'pos': 46}\n",
      "PREDICAO {'neg': 0, 'pos': 47}\n",
      "PREDICAO {'neg': 0, 'pos': 48}\n",
      "PREDICAO {'neg': 0, 'pos': 49}\n",
      "PREDICAO {'neg': 0, 'pos': 50}\n",
      "PREDICAO {'neg': 0, 'pos': 51}\n",
      "{'neg': 0, 'pos': 51}\n",
      "elapsed time: 0.09526872634887695\n"
     ]
    }
   ],
   "source": [
    "new_model = Model()\n",
    "new_model.importModel('NBclassifier')\n",
    "\n",
    "new_model.testNBClassifier()\n"
   ]
  },
  {
   "cell_type": "code",
   "execution_count": null,
   "metadata": {},
   "outputs": [],
   "source": []
  }
 ],
 "metadata": {
  "kernelspec": {
   "display_name": "Python 3",
   "language": "python",
   "name": "python3"
  },
  "language_info": {
   "codemirror_mode": {
    "name": "ipython",
    "version": 3
   },
   "file_extension": ".py",
   "mimetype": "text/x-python",
   "name": "python",
   "nbconvert_exporter": "python",
   "pygments_lexer": "ipython3",
   "version": "3.7.1"
  }
 },
 "nbformat": 4,
 "nbformat_minor": 2
}
