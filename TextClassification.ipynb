{
 "cells": [
  {
   "cell_type": "code",
   "execution_count": 11,
   "metadata": {},
   "outputs": [],
   "source": [
    "import os"
   ]
  },
  {
   "cell_type": "code",
   "execution_count": 42,
   "metadata": {},
   "outputs": [],
   "source": [
    "import nltk"
   ]
  },
  {
   "cell_type": "code",
   "execution_count": 41,
   "metadata": {},
   "outputs": [],
   "source": [
    "import math"
   ]
  },
  {
   "cell_type": "code",
   "execution_count": 110,
   "metadata": {},
   "outputs": [],
   "source": [
    "class Model():\n",
    "    def __init__(self):\n",
    "        self.classes = {}\n",
    "               \n",
    "    def trainNBClassifier(self):\n",
    "        logprob={}        \n",
    "        bigdoc={}\n",
    "        loglikelihood={}\n",
    "        for classe in self.classes:\n",
    "            text=''\n",
    "            \n",
    "            number_of_documents = sum(map(lambda classes:int(classes),self.classes.values())) \n",
    "            number_of_doc_in_class = self.classes[classe]\n",
    "            \n",
    "            logprob[classe] = math.log(number_of_doc_in_class/number_of_documents)\n",
    "        \n",
    "            vector_of_words = self.extractVocabulary()\n",
    "            \n",
    "            files=os.listdir('./dataset/train/'+classe)\n",
    "            for doc in files:\n",
    "                text += self.read_file(\"./dataset/train/\"+classe+\"/\"+doc)\n",
    "            \n",
    "            bigdoc[classe]= text\n",
    "            \n",
    "            words_of_classe = nltk.tokenize.word_tokenize(bigdoc[classe])\n",
    "            \n",
    "            for word in vector_of_words:\n",
    "                loglikelihood[word,classe] = (bigdoc[classe].count(word) +1 / (len(words_of_classe)+len(vector_of_words)))\n",
    "        \n",
    "        print(vector_of_words)\n",
    "        print(loglikelihood)\n",
    "        \n",
    "        self.save(str(loglikelihood))\n",
    "        \n",
    "        return (logprob, loglikelihood, vector_of_words )\n",
    "        \n",
    "       \n",
    "    def getTrainingCorpus(self):\n",
    "        folders=os.listdir('./dataset/train')\n",
    "        for classe in folders:\n",
    "            number_of_docs = len(os.listdir('./dataset/train/'+classe))\n",
    "            self.classes[classe]=number_of_docs  \n",
    "        \n",
    "    \n",
    "    def extractVocabulary(self):\n",
    "        bigtext=''\n",
    "        for classe in folders:            \n",
    "            files=os.listdir('./dataset/train/'+classe)\n",
    "            for doc in files:\n",
    "                bigtext += self.read_file(\"./dataset/train/\"+classe+\"/\"+doc)\n",
    "        \n",
    "        sentences = nltk.sent_tokenize(bigtext)        \n",
    "        for sentence in sentences:\n",
    "            words = nltk.word_tokenize(sentence)\n",
    "            words= [w for w in words if w.isalpha()] # remove all tokens that are not alphabetic\n",
    "            #word_list = [w for w in words if not w in nltk.corpus.stopwords.words('english')]\n",
    "           \n",
    "        return set(words)\n",
    "            \n",
    "    \n",
    "    def read_file(self,filename):\n",
    "        with open (filename, 'r') as file:\n",
    "            text = file.read()\n",
    "        return text    \n",
    "    \n",
    "    def save (self, classifier):\n",
    "        f = open('NBclassifier','w')\n",
    "        f.write(classifier)        \n",
    "        f.close()\n",
    "    "
   ]
  },
  {
   "cell_type": "code",
   "execution_count": 111,
   "metadata": {},
   "outputs": [
    {
     "name": "stdout",
     "output_type": "stream",
     "text": [
      "{'plain', 'fun', 'just', 'film', 'few', 'the', 'most', 'laughs', 'no', 'very', 'predictable', 'of', 'energy', 'boring', 'powerful', 'summer', 'surprises', 'and', 'lacks', 'entirely'}\n",
      "{('plain', 'pos'): 0.034482758620689655, ('fun', 'pos'): 1.0344827586206897, ('just', 'pos'): 0.034482758620689655, ('film', 'pos'): 1.0344827586206897, ('few', 'pos'): 0.034482758620689655, ('the', 'pos'): 2.0344827586206895, ('most', 'pos'): 1.0344827586206897, ('laughs', 'pos'): 0.034482758620689655, ('no', 'pos'): 0.034482758620689655, ('very', 'pos'): 1.0344827586206897, ('predictable', 'pos'): 0.034482758620689655, ('of', 'pos'): 1.0344827586206897, ('energy', 'pos'): 0.034482758620689655, ('boring', 'pos'): 0.034482758620689655, ('powerful', 'pos'): 1.0344827586206897, ('summer', 'pos'): 1.0344827586206897, ('surprises', 'pos'): 0.034482758620689655, ('and', 'pos'): 0.034482758620689655, ('lacks', 'pos'): 0.034482758620689655, ('entirely', 'pos'): 0.034482758620689655, ('plain', 'neg'): 1.0294117647058822, ('fun', 'neg'): 0.029411764705882353, ('just', 'neg'): 1.0294117647058822, ('film', 'neg'): 0.029411764705882353, ('few', 'neg'): 1.0294117647058822, ('the', 'neg'): 0.029411764705882353, ('most', 'neg'): 0.029411764705882353, ('laughs', 'neg'): 1.0294117647058822, ('no', 'neg'): 1.0294117647058822, ('very', 'neg'): 1.0294117647058822, ('predictable', 'neg'): 1.0294117647058822, ('of', 'neg'): 0.029411764705882353, ('energy', 'neg'): 1.0294117647058822, ('boring', 'neg'): 1.0294117647058822, ('powerful', 'neg'): 0.029411764705882353, ('summer', 'neg'): 0.029411764705882353, ('surprises', 'neg'): 1.0294117647058822, ('and', 'neg'): 2.0294117647058822, ('lacks', 'neg'): 1.0294117647058822, ('entirely', 'neg'): 1.0294117647058822}\n"
     ]
    }
   ],
   "source": [
    "if __name__ == \"__main__\":\n",
    "    model = Model()  \n",
    "    model.getTrainingCorpus()\n",
    "    model.trainNBClassifier()"
   ]
  },
  {
   "cell_type": "code",
   "execution_count": null,
   "metadata": {},
   "outputs": [],
   "source": []
  }
 ],
 "metadata": {
  "kernelspec": {
   "display_name": "Python 3",
   "language": "python",
   "name": "python3"
  },
  "language_info": {
   "codemirror_mode": {
    "name": "ipython",
    "version": 3
   },
   "file_extension": ".py",
   "mimetype": "text/x-python",
   "name": "python",
   "nbconvert_exporter": "python",
   "pygments_lexer": "ipython3",
   "version": "3.7.1"
  }
 },
 "nbformat": 4,
 "nbformat_minor": 2
}
