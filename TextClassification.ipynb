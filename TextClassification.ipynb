{
 "cells": [
  {
   "cell_type": "code",
   "execution_count": 1,
   "metadata": {},
   "outputs": [],
   "source": [
    "import os"
   ]
  },
  {
   "cell_type": "code",
   "execution_count": 2,
   "metadata": {},
   "outputs": [],
   "source": [
    "import nltk"
   ]
  },
  {
   "cell_type": "code",
   "execution_count": 3,
   "metadata": {},
   "outputs": [],
   "source": [
    "import math"
   ]
  },
  {
   "cell_type": "code",
   "execution_count": 4,
   "metadata": {},
   "outputs": [],
   "source": [
    "class Model():\n",
    "    def __init__(self):\n",
    "        self.classes = {}\n",
    "               \n",
    "    def trainNBClassifier(self):\n",
    "        logprob={}        \n",
    "        bigdoc={}\n",
    "        loglikelihood={}\n",
    "        for classe in self.classes:\n",
    "            text=''\n",
    "            \n",
    "            number_of_documents = sum(map(lambda classes:int(classes),self.classes.values())) \n",
    "            number_of_doc_in_class = self.classes[classe]\n",
    "            \n",
    "            logprob[classe] = math.log(number_of_doc_in_class/number_of_documents)\n",
    "        \n",
    "            vector_of_words = self.extractVocabulary()\n",
    "            \n",
    "            files=os.listdir('./dataset/train/'+classe)\n",
    "            for doc in files:\n",
    "                text += self.read_file(\"./dataset/train/\"+classe+\"/\"+doc)\n",
    "            \n",
    "            bigdoc[classe]= text\n",
    "            \n",
    "            words_of_classe = nltk.tokenize.word_tokenize(bigdoc[classe])\n",
    "            \n",
    "            for word in vector_of_words:\n",
    "                loglikelihood[word,classe] = (bigdoc[classe].count(word) +1 / (len(words_of_classe)+len(vector_of_words)))\n",
    "        \n",
    "        print(vector_of_words)\n",
    "        print(loglikelihood)\n",
    "        \n",
    "        self.save(str(loglikelihood))\n",
    "        \n",
    "        return (logprob, loglikelihood, vector_of_words )\n",
    "        \n",
    "       \n",
    "    def getTrainingCorpus(self):\n",
    "        folders=os.listdir('./dataset/train')\n",
    "        for classe in folders:\n",
    "            number_of_docs = len(os.listdir('./dataset/train/'+classe))\n",
    "            self.classes[classe]=number_of_docs  \n",
    "        \n",
    "    \n",
    "    def extractVocabulary(self):\n",
    "        bigtext=''\n",
    "        folders=os.listdir('./dataset/train')\n",
    "        for classe in folders:            \n",
    "            files=os.listdir('./dataset/train/'+classe)\n",
    "            for doc in files:\n",
    "                bigtext += self.read_file(\"./dataset/train/\"+classe+\"/\"+doc)\n",
    "        \n",
    "        sentences = nltk.sent_tokenize(bigtext)        \n",
    "        for sentence in sentences:\n",
    "            words = nltk.word_tokenize(sentence)\n",
    "            words= [w for w in words if w.isalpha()] # remove all tokens that are not alphabetic\n",
    "            #word_list = [w for w in words if not w in nltk.corpus.stopwords.words('english')]\n",
    "           \n",
    "        return set(words)\n",
    "            \n",
    "    \n",
    "    def read_file(self,filename):\n",
    "        with open (filename, 'r') as file:\n",
    "            text = file.read()\n",
    "        return text    \n",
    "    \n",
    "    def save (self, classifier):\n",
    "        f = open('NBclassifier','w')\n",
    "        f.write(classifier)        \n",
    "        f.close()\n",
    "    "
   ]
  },
  {
   "cell_type": "code",
   "execution_count": 5,
   "metadata": {},
   "outputs": [
    {
     "ename": "NameError",
     "evalue": "name 'folders' is not defined",
     "output_type": "error",
     "traceback": [
      "\u001b[0;31m---------------------------------------------------------------------------\u001b[0m",
      "\u001b[0;31mNameError\u001b[0m                                 Traceback (most recent call last)",
      "\u001b[0;32m<ipython-input-5-b534ce1d42d2>\u001b[0m in \u001b[0;36m<module>\u001b[0;34m\u001b[0m\n\u001b[1;32m      2\u001b[0m     \u001b[0mmodel\u001b[0m \u001b[0;34m=\u001b[0m \u001b[0mModel\u001b[0m\u001b[0;34m(\u001b[0m\u001b[0;34m)\u001b[0m\u001b[0;34m\u001b[0m\u001b[0;34m\u001b[0m\u001b[0m\n\u001b[1;32m      3\u001b[0m     \u001b[0mmodel\u001b[0m\u001b[0;34m.\u001b[0m\u001b[0mgetTrainingCorpus\u001b[0m\u001b[0;34m(\u001b[0m\u001b[0;34m)\u001b[0m\u001b[0;34m\u001b[0m\u001b[0;34m\u001b[0m\u001b[0m\n\u001b[0;32m----> 4\u001b[0;31m     \u001b[0mmodel\u001b[0m\u001b[0;34m.\u001b[0m\u001b[0mtrainNBClassifier\u001b[0m\u001b[0;34m(\u001b[0m\u001b[0;34m)\u001b[0m\u001b[0;34m\u001b[0m\u001b[0;34m\u001b[0m\u001b[0m\n\u001b[0m",
      "\u001b[0;32m<ipython-input-4-6c144e8ee40d>\u001b[0m in \u001b[0;36mtrainNBClassifier\u001b[0;34m(self)\u001b[0m\n\u001b[1;32m     15\u001b[0m             \u001b[0mlogprob\u001b[0m\u001b[0;34m[\u001b[0m\u001b[0mclasse\u001b[0m\u001b[0;34m]\u001b[0m \u001b[0;34m=\u001b[0m \u001b[0mmath\u001b[0m\u001b[0;34m.\u001b[0m\u001b[0mlog\u001b[0m\u001b[0;34m(\u001b[0m\u001b[0mnumber_of_doc_in_class\u001b[0m\u001b[0;34m/\u001b[0m\u001b[0mnumber_of_documents\u001b[0m\u001b[0;34m)\u001b[0m\u001b[0;34m\u001b[0m\u001b[0;34m\u001b[0m\u001b[0m\n\u001b[1;32m     16\u001b[0m \u001b[0;34m\u001b[0m\u001b[0m\n\u001b[0;32m---> 17\u001b[0;31m             \u001b[0mvector_of_words\u001b[0m \u001b[0;34m=\u001b[0m \u001b[0mself\u001b[0m\u001b[0;34m.\u001b[0m\u001b[0mextractVocabulary\u001b[0m\u001b[0;34m(\u001b[0m\u001b[0;34m)\u001b[0m\u001b[0;34m\u001b[0m\u001b[0;34m\u001b[0m\u001b[0m\n\u001b[0m\u001b[1;32m     18\u001b[0m \u001b[0;34m\u001b[0m\u001b[0m\n\u001b[1;32m     19\u001b[0m             \u001b[0mfiles\u001b[0m\u001b[0;34m=\u001b[0m\u001b[0mos\u001b[0m\u001b[0;34m.\u001b[0m\u001b[0mlistdir\u001b[0m\u001b[0;34m(\u001b[0m\u001b[0;34m'./dataset/train/'\u001b[0m\u001b[0;34m+\u001b[0m\u001b[0mclasse\u001b[0m\u001b[0;34m)\u001b[0m\u001b[0;34m\u001b[0m\u001b[0;34m\u001b[0m\u001b[0m\n",
      "\u001b[0;32m<ipython-input-4-6c144e8ee40d>\u001b[0m in \u001b[0;36mextractVocabulary\u001b[0;34m(self)\u001b[0m\n\u001b[1;32m     45\u001b[0m     \u001b[0;32mdef\u001b[0m \u001b[0mextractVocabulary\u001b[0m\u001b[0;34m(\u001b[0m\u001b[0mself\u001b[0m\u001b[0;34m)\u001b[0m\u001b[0;34m:\u001b[0m\u001b[0;34m\u001b[0m\u001b[0;34m\u001b[0m\u001b[0m\n\u001b[1;32m     46\u001b[0m         \u001b[0mbigtext\u001b[0m\u001b[0;34m=\u001b[0m\u001b[0;34m''\u001b[0m\u001b[0;34m\u001b[0m\u001b[0;34m\u001b[0m\u001b[0m\n\u001b[0;32m---> 47\u001b[0;31m         \u001b[0;32mfor\u001b[0m \u001b[0mclasse\u001b[0m \u001b[0;32min\u001b[0m \u001b[0mfolders\u001b[0m\u001b[0;34m:\u001b[0m\u001b[0;34m\u001b[0m\u001b[0;34m\u001b[0m\u001b[0m\n\u001b[0m\u001b[1;32m     48\u001b[0m             \u001b[0mfiles\u001b[0m\u001b[0;34m=\u001b[0m\u001b[0mos\u001b[0m\u001b[0;34m.\u001b[0m\u001b[0mlistdir\u001b[0m\u001b[0;34m(\u001b[0m\u001b[0;34m'./dataset/train/'\u001b[0m\u001b[0;34m+\u001b[0m\u001b[0mclasse\u001b[0m\u001b[0;34m)\u001b[0m\u001b[0;34m\u001b[0m\u001b[0;34m\u001b[0m\u001b[0m\n\u001b[1;32m     49\u001b[0m             \u001b[0;32mfor\u001b[0m \u001b[0mdoc\u001b[0m \u001b[0;32min\u001b[0m \u001b[0mfiles\u001b[0m\u001b[0;34m:\u001b[0m\u001b[0;34m\u001b[0m\u001b[0;34m\u001b[0m\u001b[0m\n",
      "\u001b[0;31mNameError\u001b[0m: name 'folders' is not defined"
     ]
    }
   ],
   "source": [
    "if __name__ == \"__main__\":\n",
    "    model = Model()  \n",
    "    model.getTrainingCorpus()\n",
    "    model.trainNBClassifier()"
   ]
  },
  {
   "cell_type": "code",
   "execution_count": null,
   "metadata": {},
   "outputs": [],
   "source": []
  }
 ],
 "metadata": {
  "kernelspec": {
   "display_name": "Python 3",
   "language": "python",
   "name": "python3"
  },
  "language_info": {
   "codemirror_mode": {
    "name": "ipython",
    "version": 3
   },
   "file_extension": ".py",
   "mimetype": "text/x-python",
   "name": "python",
   "nbconvert_exporter": "python",
   "pygments_lexer": "ipython3",
   "version": "3.7.1"
  }
 },
 "nbformat": 4,
 "nbformat_minor": 2
}
