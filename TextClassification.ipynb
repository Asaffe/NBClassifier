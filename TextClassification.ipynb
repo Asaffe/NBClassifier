{
 "cells": [
  {
   "cell_type": "code",
   "execution_count": 1,
   "metadata": {},
   "outputs": [],
   "source": [
    "import os"
   ]
  },
  {
   "cell_type": "code",
   "execution_count": 2,
   "metadata": {},
   "outputs": [],
   "source": [
    "import nltk"
   ]
  },
  {
   "cell_type": "code",
   "execution_count": 33,
   "metadata": {},
   "outputs": [],
   "source": [
    "import pandas as pd"
   ]
  },
  {
   "cell_type": "code",
   "execution_count": 34,
   "metadata": {},
   "outputs": [],
   "source": [
    "from sklearn.metrics import confusion_matrix"
   ]
  },
  {
   "cell_type": "code",
   "execution_count": 3,
   "metadata": {},
   "outputs": [],
   "source": [
    "from TextNormalizer import *"
   ]
  },
  {
   "cell_type": "code",
   "execution_count": 4,
   "metadata": {},
   "outputs": [],
   "source": [
    "import math"
   ]
  },
  {
   "cell_type": "code",
   "execution_count": 5,
   "metadata": {},
   "outputs": [],
   "source": [
    "import time"
   ]
  },
  {
   "cell_type": "code",
   "execution_count": 35,
   "metadata": {},
   "outputs": [],
   "source": [
    "class Model():\n",
    "    def __init__(self):\n",
    "        self.classes = {}\n",
    "        self.logprob={} \n",
    "        self.vector_of_words=[]\n",
    "        self.loglikelihood={}\n",
    "               \n",
    "    def trainNBClassifier(self):\n",
    "         \n",
    "        self.getTrainingData()    \n",
    "        bigdoc={}\n",
    "        \n",
    "        for classe in self.classes:\n",
    "            text=''\n",
    "            \n",
    "            number_of_documents = sum(map(lambda classes:int(classes),self.classes.values())) \n",
    "            number_of_doc_in_class = self.classes[classe]\n",
    "            \n",
    "            self.logprob[classe] = math.log(number_of_doc_in_class/number_of_documents)\n",
    "        \n",
    "            self.vector_of_words = self.extractVocabulary()\n",
    "            \n",
    "            files=os.listdir('./dataset/train/'+classe)\n",
    "            for doc in files:\n",
    "                text += self.read_file(\"./dataset/train/\"+classe+\"/\"+doc)\n",
    "            \n",
    "            bigdoc[classe]= text\n",
    "            \n",
    "            words_of_classe = nltk.tokenize.word_tokenize(bigdoc[classe])\n",
    "            \n",
    "            for word in self.vector_of_words:\n",
    "                self.loglikelihood[word,classe] = (bigdoc[classe].count(word) +1 / (len(words_of_classe)+len(self.vector_of_words)))\n",
    "        \n",
    "        print(self.classes)\n",
    "        print(self.logprob)\n",
    "        print(self.vector_of_words)\n",
    "        print(self.loglikelihood)\n",
    "                \n",
    "        return (self.classes, self.logprob, self.vector_of_words, self.loglikelihood )\n",
    "    \n",
    "    def predict(self, file):\n",
    "            \n",
    "        words=[]\n",
    "        probabilityPerClass={}\n",
    "        doc= self.read_file(file)\n",
    "        normalizer = TextNormalizer()\n",
    "        text = normalizer.normalizing(doc)\n",
    "        sentences = nltk.sent_tokenize(text)        \n",
    "        for sentence in sentences:\n",
    "            words = nltk.word_tokenize(sentence)       \n",
    "        \n",
    "        for classe in self.classes:\n",
    "            \n",
    "            probabilityPerClass[classe] = self.logprob[classe]\n",
    "            \n",
    "            for word in words:\n",
    "                if word in self.vector_of_words:\n",
    "                    probabilityPerClass[classe]+= self.loglikelihood[word,classe]\n",
    "        \n",
    "        return max(probabilityPerClass, key=probabilityPerClass.get)\n",
    "    \n",
    "    def testNBClassifier(self):\n",
    "        #path: caminho para o dataset test\n",
    "        #buscar na pasta teste todos os arquivos e posteriormente chama predict()\n",
    "        \n",
    "        folders=os.listdir('./dataset/test')\n",
    "        y_test={}\n",
    "        y_predict={}\n",
    "        \n",
    "        \n",
    "        for classe in folders:\n",
    "            number_of_docs = len(os.listdir('./dataset/test/'+classe))\n",
    "            y_test[classe]=number_of_docs            \n",
    "            y_predict[classe]=0\n",
    "        \n",
    "        \n",
    "        t_inicial = time.time()  \n",
    "        \n",
    "        for classe in folders:  \n",
    "            files=os.listdir('./dataset/test/'+classe)\n",
    "            for doc in files: \n",
    "                predict_class = self.predict('./dataset/test/'+classe+'/'+doc)\n",
    "                y_predict[predict_class]+=1 \n",
    "                \n",
    "        t_final = time.time()\n",
    "        \n",
    "        tempo_total = t_final - t_inicial\n",
    "        print(\"elapsed time: \" +str(tempo_total))\n",
    "        \n",
    "        pd.DataFrame(\n",
    "                confusion_matrix(y_test, y_pred),\n",
    "                columns=['Pos', 'Neg'],\n",
    "                index=['Pos', 'Neg',]\n",
    "        )\n",
    "        \n",
    "        \n",
    "            \n",
    "            \n",
    "        \n",
    "    def getTrainingData(self):\n",
    "        folders=os.listdir('./dataset/train')\n",
    "        for classe in folders:\n",
    "            number_of_docs = len(os.listdir('./dataset/train/'+classe))\n",
    "            self.classes[classe]=number_of_docs        \n",
    "          \n",
    "    \n",
    "    def extractVocabulary(self):\n",
    "        bigtext=''\n",
    "        folders=os.listdir('./dataset/train')\n",
    "        for classe in folders:            \n",
    "            files=os.listdir('./dataset/train/'+classe)\n",
    "            for doc in files:\n",
    "                bigtext += self.read_file(\"./dataset/train/\"+classe+\"/\"+doc)\n",
    "        normalizer = TextNormalizer()\n",
    "        bigtext = normalizer.normalizing(bigtext)\n",
    "        sentences = nltk.sent_tokenize(bigtext)        \n",
    "        for sentence in sentences:\n",
    "            words = nltk.word_tokenize(sentence)\n",
    "            words= [w for w in words if w.isalpha()] # remove all tokens that are not alphabetic\n",
    "            #word_list = [w for w in words if not w in nltk.corpus.stopwords.words('english')]\n",
    "           \n",
    "        return set(words)\n",
    "            \n",
    "    \n",
    "    def read_file(self,filename):\n",
    "        with open (filename, 'r') as file:\n",
    "            text = file.read()\n",
    "        return text    \n",
    "    \n",
    "    def save(self, model):           \n",
    "        f = open('NBclassifier','w')\n",
    "        f.write(str(classifier))  \n",
    "        f.close()\n",
    "        \n",
    "    def importModel(self, filename):\n",
    "        model= self.read_file(filename)\n",
    "        model= eval(model)\n",
    "        self.classes = model[0]\n",
    "        self.logprob = model[1]\n",
    "        self.vector_of_words = model[2]\n",
    "        self.loglikelihood = model[3]\n",
    "    "
   ]
  },
  {
   "cell_type": "code",
   "execution_count": 36,
   "metadata": {},
   "outputs": [
    {
     "name": "stdout",
     "output_type": "stream",
     "text": [
      "{'pos': 2, 'neg': 3}\n",
      "{'pos': -0.916290731874155, 'neg': -0.5108256237659907}\n",
      "{'very', 'summer', 'surprises', 'film', 'the', 'no', 'fun', 'boring', 'most', 'laughs', 'lacks', 'energy', 'entirely', 'plain', 'just', 'of', 'powerful', 'predictable', 'and', 'few'}\n",
      "{('very', 'pos'): 1.0294117647058822, ('summer', 'pos'): 1.0294117647058822, ('surprises', 'pos'): 0.029411764705882353, ('film', 'pos'): 1.0294117647058822, ('the', 'pos'): 2.0294117647058822, ('no', 'pos'): 0.029411764705882353, ('fun', 'pos'): 1.0294117647058822, ('boring', 'pos'): 0.029411764705882353, ('most', 'pos'): 1.0294117647058822, ('laughs', 'pos'): 0.029411764705882353, ('lacks', 'pos'): 0.029411764705882353, ('energy', 'pos'): 0.029411764705882353, ('entirely', 'pos'): 0.029411764705882353, ('plain', 'pos'): 0.029411764705882353, ('just', 'pos'): 0.029411764705882353, ('of', 'pos'): 1.0294117647058822, ('powerful', 'pos'): 1.0294117647058822, ('predictable', 'pos'): 0.029411764705882353, ('and', 'pos'): 0.029411764705882353, ('few', 'pos'): 0.029411764705882353, ('very', 'neg'): 1.0294117647058822, ('summer', 'neg'): 0.029411764705882353, ('surprises', 'neg'): 1.0294117647058822, ('film', 'neg'): 0.029411764705882353, ('the', 'neg'): 0.029411764705882353, ('no', 'neg'): 1.0294117647058822, ('fun', 'neg'): 0.029411764705882353, ('boring', 'neg'): 1.0294117647058822, ('most', 'neg'): 0.029411764705882353, ('laughs', 'neg'): 1.0294117647058822, ('lacks', 'neg'): 1.0294117647058822, ('energy', 'neg'): 1.0294117647058822, ('entirely', 'neg'): 1.0294117647058822, ('plain', 'neg'): 1.0294117647058822, ('just', 'neg'): 1.0294117647058822, ('of', 'neg'): 0.029411764705882353, ('powerful', 'neg'): 0.029411764705882353, ('predictable', 'neg'): 1.0294117647058822, ('and', 'neg'): 2.0294117647058822, ('few', 'neg'): 1.0294117647058822}\n"
     ]
    }
   ],
   "source": [
    "if __name__ == \"__main__\":\n",
    "    model = Model()  \n",
    "    classifier = model.trainNBClassifier()\n",
    "    model.save(classifier)   "
   ]
  },
  {
   "cell_type": "code",
   "execution_count": 37,
   "metadata": {},
   "outputs": [
    {
     "name": "stdout",
     "output_type": "stream",
     "text": [
      "elapsed time: 0.0007588863372802734\n"
     ]
    },
    {
     "ename": "NameError",
     "evalue": "name 'y_pred' is not defined",
     "output_type": "error",
     "traceback": [
      "\u001b[0;31m---------------------------------------------------------------------------\u001b[0m",
      "\u001b[0;31mNameError\u001b[0m                                 Traceback (most recent call last)",
      "\u001b[0;32m<ipython-input-37-2479de8b2acb>\u001b[0m in \u001b[0;36m<module>\u001b[0;34m\u001b[0m\n\u001b[1;32m      1\u001b[0m \u001b[0mnew_model\u001b[0m \u001b[0;34m=\u001b[0m \u001b[0mModel\u001b[0m\u001b[0;34m(\u001b[0m\u001b[0;34m)\u001b[0m\u001b[0;34m\u001b[0m\u001b[0;34m\u001b[0m\u001b[0m\n\u001b[1;32m      2\u001b[0m \u001b[0mmodel\u001b[0m\u001b[0;34m.\u001b[0m\u001b[0mimportModel\u001b[0m\u001b[0;34m(\u001b[0m\u001b[0;34m'NBclassifier'\u001b[0m\u001b[0;34m)\u001b[0m\u001b[0;34m\u001b[0m\u001b[0;34m\u001b[0m\u001b[0m\n\u001b[0;32m----> 3\u001b[0;31m \u001b[0mmodel\u001b[0m\u001b[0;34m.\u001b[0m\u001b[0mtestNBClassifier\u001b[0m\u001b[0;34m(\u001b[0m\u001b[0;34m)\u001b[0m\u001b[0;34m\u001b[0m\u001b[0;34m\u001b[0m\u001b[0m\n\u001b[0m",
      "\u001b[0;32m<ipython-input-35-4a98291a571e>\u001b[0m in \u001b[0;36mtestNBClassifier\u001b[0;34m(self)\u001b[0m\n\u001b[1;32m     89\u001b[0m \u001b[0;34m\u001b[0m\u001b[0m\n\u001b[1;32m     90\u001b[0m         pd.DataFrame(\n\u001b[0;32m---> 91\u001b[0;31m                 \u001b[0mconfusion_matrix\u001b[0m\u001b[0;34m(\u001b[0m\u001b[0my_test\u001b[0m\u001b[0;34m,\u001b[0m \u001b[0my_pred\u001b[0m\u001b[0;34m)\u001b[0m\u001b[0;34m,\u001b[0m\u001b[0;34m\u001b[0m\u001b[0;34m\u001b[0m\u001b[0m\n\u001b[0m\u001b[1;32m     92\u001b[0m                 \u001b[0mcolumns\u001b[0m\u001b[0;34m=\u001b[0m\u001b[0;34m[\u001b[0m\u001b[0;34m'Pos'\u001b[0m\u001b[0;34m,\u001b[0m \u001b[0;34m'Neg'\u001b[0m\u001b[0;34m]\u001b[0m\u001b[0;34m,\u001b[0m\u001b[0;34m\u001b[0m\u001b[0;34m\u001b[0m\u001b[0m\n\u001b[1;32m     93\u001b[0m                 \u001b[0mindex\u001b[0m\u001b[0;34m=\u001b[0m\u001b[0;34m[\u001b[0m\u001b[0;34m'Pos'\u001b[0m\u001b[0;34m,\u001b[0m \u001b[0;34m'Neg'\u001b[0m\u001b[0;34m,\u001b[0m\u001b[0;34m]\u001b[0m\u001b[0;34m\u001b[0m\u001b[0;34m\u001b[0m\u001b[0m\n",
      "\u001b[0;31mNameError\u001b[0m: name 'y_pred' is not defined"
     ]
    }
   ],
   "source": [
    "new_model = Model()\n",
    "model.importModel('NBclassifier')\n",
    "model.testNBClassifier()\n"
   ]
  },
  {
   "cell_type": "code",
   "execution_count": null,
   "metadata": {},
   "outputs": [],
   "source": []
  }
 ],
 "metadata": {
  "kernelspec": {
   "display_name": "Python 3",
   "language": "python",
   "name": "python3"
  },
  "language_info": {
   "codemirror_mode": {
    "name": "ipython",
    "version": 3
   },
   "file_extension": ".py",
   "mimetype": "text/x-python",
   "name": "python",
   "nbconvert_exporter": "python",
   "pygments_lexer": "ipython3",
   "version": "3.7.1"
  }
 },
 "nbformat": 4,
 "nbformat_minor": 2
}
